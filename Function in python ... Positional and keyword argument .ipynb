{
 "cells": [
  {
   "cell_type": "markdown",
   "id": "074d61d1",
   "metadata": {},
   "source": [
    "# Fuctions in Python "
   ]
  },
  {
   "cell_type": "markdown",
   "id": "7466ae52",
   "metadata": {},
   "source": [
    "## why Fuctions\n",
    "## Fuctions Defination\n",
    "## Positional and Keyword Arguments in fuctions "
   ]
  },
  {
   "cell_type": "code",
   "execution_count": 21,
   "id": "08d60d11",
   "metadata": {},
   "outputs": [],
   "source": [
    "num=24\n",
    "\n"
   ]
  },
  {
   "cell_type": "code",
   "execution_count": 2,
   "id": "28a17aa1",
   "metadata": {},
   "outputs": [],
   "source": [
    "def even_odd(num):\n",
    "    if num%2==0:\n",
    "        print(\"The number is even\")\n",
    "    else:\n",
    "        print(\"The number is odd\")\n",
    "    "
   ]
  },
  {
   "cell_type": "code",
   "execution_count": 5,
   "id": "0311c195",
   "metadata": {},
   "outputs": [
    {
     "name": "stdout",
     "output_type": "stream",
     "text": [
      "The number is odd\n"
     ]
    }
   ],
   "source": [
    "even_odd(55)\n"
   ]
  },
  {
   "cell_type": "code",
   "execution_count": 8,
   "id": "827f4e85",
   "metadata": {},
   "outputs": [],
   "source": [
    "# print vs return\n",
    "def hello_world():\n",
    "    print('Hello worlds')"
   ]
  },
  {
   "cell_type": "code",
   "execution_count": 11,
   "id": "b33fb835",
   "metadata": {},
   "outputs": [
    {
     "name": "stdout",
     "output_type": "stream",
     "text": [
      "Hello worlds\n"
     ]
    }
   ],
   "source": [
    "val=hello_world()"
   ]
  },
  {
   "cell_type": "code",
   "execution_count": 12,
   "id": "8214f5f5",
   "metadata": {},
   "outputs": [
    {
     "name": "stdout",
     "output_type": "stream",
     "text": [
      "None\n"
     ]
    }
   ],
   "source": [
    "print(val)"
   ]
  },
  {
   "cell_type": "code",
   "execution_count": 13,
   "id": "0da0d49d",
   "metadata": {},
   "outputs": [],
   "source": [
    "def welcome_world():\n",
    "    return(\"Welcome to my Program\")"
   ]
  },
  {
   "cell_type": "code",
   "execution_count": 15,
   "id": "c608f2ab",
   "metadata": {},
   "outputs": [],
   "source": [
    "val=welcome_world()"
   ]
  },
  {
   "cell_type": "code",
   "execution_count": 16,
   "id": "e6a8db69",
   "metadata": {},
   "outputs": [
    {
     "name": "stdout",
     "output_type": "stream",
     "text": [
      "Welcome to my Program\n"
     ]
    }
   ],
   "source": [
    "print(val)"
   ]
  },
  {
   "cell_type": "code",
   "execution_count": 18,
   "id": "d5e68e77",
   "metadata": {},
   "outputs": [],
   "source": [
    "def add_number(num1,num2):\n",
    "    return num1+num2"
   ]
  },
  {
   "cell_type": "code",
   "execution_count": 19,
   "id": "d7293f45",
   "metadata": {},
   "outputs": [],
   "source": [
    "val=add_number(55,65)"
   ]
  },
  {
   "cell_type": "code",
   "execution_count": 20,
   "id": "51e2ac0e",
   "metadata": {},
   "outputs": [
    {
     "data": {
      "text/plain": [
       "120"
      ]
     },
     "execution_count": 20,
     "metadata": {},
     "output_type": "execute_result"
    }
   ],
   "source": [
    "val"
   ]
  },
  {
   "cell_type": "code",
   "execution_count": 25,
   "id": "6c12d939",
   "metadata": {},
   "outputs": [],
   "source": [
    "## Positional argument\n",
    "## Keyword argument \n",
    "\n",
    "def hello(name,age=29):\n",
    "    print(\"My name is {} and age is {}\".format(name,age))"
   ]
  },
  {
   "cell_type": "code",
   "execution_count": 26,
   "id": "4ce91e2e",
   "metadata": {},
   "outputs": [
    {
     "name": "stdout",
     "output_type": "stream",
     "text": [
      "My name is Ankit and age is 29\n"
     ]
    }
   ],
   "source": [
    "hello('Ankit')"
   ]
  },
  {
   "cell_type": "code",
   "execution_count": 29,
   "id": "c966e71c",
   "metadata": {},
   "outputs": [],
   "source": [
    "def hello(*arg,**kwargs):\n",
    "    print(arg)\n",
    "    print(kwargs)"
   ]
  },
  {
   "cell_type": "code",
   "execution_count": 30,
   "id": "bd5897c2",
   "metadata": {},
   "outputs": [
    {
     "name": "stdout",
     "output_type": "stream",
     "text": [
      "('Ankit', 'Sharma')\n",
      "{'age': 25, 'dob': 1997}\n"
     ]
    }
   ],
   "source": [
    "hello(\"Ankit\",\"Sharma\",age=25,dob=1997)"
   ]
  },
  {
   "cell_type": "code",
   "execution_count": 31,
   "id": "f30c25a6",
   "metadata": {},
   "outputs": [],
   "source": [
    "lst=[\"Ankit\", \"Sharma\"]\n",
    "dict_arg={\"age\":25, \"dob\": 1997}"
   ]
  },
  {
   "cell_type": "code",
   "execution_count": 33,
   "id": "c02c19f2",
   "metadata": {},
   "outputs": [
    {
     "name": "stdout",
     "output_type": "stream",
     "text": [
      "('Ankit', 'Sharma')\n",
      "{'age': 25, 'dob': 1997}\n"
     ]
    }
   ],
   "source": [
    "hello(*lst,**dict_arg)"
   ]
  },
  {
   "cell_type": "code",
   "execution_count": 56,
   "id": "7bacc0a4",
   "metadata": {},
   "outputs": [],
   "source": [
    "lst=[1,2,3,4,5,6,7]"
   ]
  },
  {
   "cell_type": "code",
   "execution_count": 57,
   "id": "c52bef31",
   "metadata": {},
   "outputs": [],
   "source": [
    "def evenoddsum(lst):\n",
    "    even_sum=0\n",
    "    odd_sum=0\n",
    "    for i in lst:\n",
    "        if i%2==0:\n",
    "            even_sum=even_sum+i\n",
    "        else:\n",
    "            odd_sum=odd_sum+i\n",
    "        return even_sum,odd_sum\n",
    "                "
   ]
  },
  {
   "cell_type": "code",
   "execution_count": 59,
   "id": "f87af012",
   "metadata": {},
   "outputs": [
    {
     "data": {
      "text/plain": [
       "(0, 1)"
      ]
     },
     "execution_count": 59,
     "metadata": {},
     "output_type": "execute_result"
    }
   ],
   "source": [
    "evenoddsum(lst)"
   ]
  },
  {
   "cell_type": "code",
   "execution_count": null,
   "id": "1624d0b8",
   "metadata": {},
   "outputs": [],
   "source": []
  },
  {
   "cell_type": "code",
   "execution_count": null,
   "id": "c1ad8015",
   "metadata": {},
   "outputs": [],
   "source": []
  },
  {
   "cell_type": "code",
   "execution_count": null,
   "id": "2ba73b74",
   "metadata": {},
   "outputs": [],
   "source": []
  },
  {
   "cell_type": "code",
   "execution_count": null,
   "id": "76fc2af0",
   "metadata": {},
   "outputs": [],
   "source": []
  },
  {
   "cell_type": "code",
   "execution_count": null,
   "id": "23ec7bfd",
   "metadata": {},
   "outputs": [],
   "source": []
  },
  {
   "cell_type": "code",
   "execution_count": null,
   "id": "214d2c5e",
   "metadata": {},
   "outputs": [],
   "source": []
  },
  {
   "cell_type": "code",
   "execution_count": null,
   "id": "959029a7",
   "metadata": {},
   "outputs": [],
   "source": []
  },
  {
   "cell_type": "code",
   "execution_count": null,
   "id": "4e666aef",
   "metadata": {},
   "outputs": [],
   "source": []
  },
  {
   "cell_type": "code",
   "execution_count": null,
   "id": "967f504c",
   "metadata": {},
   "outputs": [],
   "source": []
  },
  {
   "cell_type": "code",
   "execution_count": null,
   "id": "9e0aa965",
   "metadata": {},
   "outputs": [],
   "source": []
  }
 ],
 "metadata": {
  "kernelspec": {
   "display_name": "Python 3",
   "language": "python",
   "name": "python3"
  },
  "language_info": {
   "codemirror_mode": {
    "name": "ipython",
    "version": 3
   },
   "file_extension": ".py",
   "mimetype": "text/x-python",
   "name": "python",
   "nbconvert_exporter": "python",
   "pygments_lexer": "ipython3",
   "version": "3.8.8"
  }
 },
 "nbformat": 4,
 "nbformat_minor": 5
}
